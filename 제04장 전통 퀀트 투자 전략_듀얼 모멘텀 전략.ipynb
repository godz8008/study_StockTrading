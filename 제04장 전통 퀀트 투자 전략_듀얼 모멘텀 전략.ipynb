{
 "cells": [
  {
   "cell_type": "markdown",
   "metadata": {},
   "source": [
    "### 4.3 듀얼 모멘텀 전략"
   ]
  },
  {
   "cell_type": "code",
   "execution_count": 1,
   "metadata": {},
   "outputs": [],
   "source": [
    "import numpy as np\n",
    "import pandas as pd\n",
    "import FinanceDataReader as fdr\n",
    "import datetime"
   ]
  },
  {
   "cell_type": "code",
   "execution_count": 2,
   "metadata": {},
   "outputs": [
    {
     "name": "stdout",
     "output_type": "stream",
     "text": [
      "             Close    Open    High     Low      Volume  Change\n",
      "Date                                                          \n",
      "2020-09-24  323.50  321.08  326.75  319.82  76680000.0  0.0027\n",
      "2020-09-25  328.73  322.63  329.56  321.68  71070000.0  0.0162\n",
      "2020-09-26  328.73  328.73  328.73  328.73         0.0  0.0000\n",
      "2020-09-27  328.73  328.73  328.73  328.73         0.0  0.0000\n",
      "2020-09-28  334.19  333.38  334.89  332.17  64580000.0  0.0166\n"
     ]
    },
    {
     "data": {
      "text/plain": [
       "<matplotlib.axes._subplots.AxesSubplot at 0x7f0e5a29cf50>"
      ]
     },
     "execution_count": 2,
     "metadata": {},
     "output_type": "execute_result"
    },
    {
     "data": {
      "image/png": "[encoded data removed]",
      "text/plain": [
       "<Figure size 432x288 with 1 Axes>"
      ]
     },
     "metadata": {
      "needs_background": "light"
     },
     "output_type": "display_data"
    }
   ],
   "source": [
    "df = fdr.DataReader('SPY', '1993-01-29')\n",
    "print(df.tail())\n",
    "df['Close'].plot()"
   ]
  },
  {
   "cell_type": "code",
   "execution_count": 5,
   "metadata": {},
   "outputs": [
    {
     "data": {
      "text/html": [
       "<div>\n",
       "<style scoped>\n",
       "    .dataframe tbody tr th:only-of-type {\n",
       "        vertical-align: middle;\n",
       "    }\n",
       "\n",
       "    .dataframe tbody tr th {\n",
       "        vertical-align: top;\n",
       "    }\n",
       "\n",
       "    .dataframe thead th {\n",
       "        text-align: right;\n",
       "    }\n",
       "</style>\n",
       "<table border=\"1\" class=\"dataframe\">\n",
       "  <thead>\n",
       "    <tr style=\"text-align: right;\">\n",
       "      <th></th>\n",
       "      <th>Close</th>\n",
       "    </tr>\n",
       "    <tr>\n",
       "      <th>Date</th>\n",
       "      <th></th>\n",
       "    </tr>\n",
       "  </thead>\n",
       "  <tbody>\n",
       "    <tr>\n",
       "      <th>1993-02-01</th>\n",
       "      <td>44.25</td>\n",
       "    </tr>\n",
       "    <tr>\n",
       "      <th>1993-02-02</th>\n",
       "      <td>44.34</td>\n",
       "    </tr>\n",
       "    <tr>\n",
       "      <th>1993-02-03</th>\n",
       "      <td>44.81</td>\n",
       "    </tr>\n",
       "    <tr>\n",
       "      <th>1993-02-04</th>\n",
       "      <td>45.00</td>\n",
       "    </tr>\n",
       "    <tr>\n",
       "      <th>1993-02-05</th>\n",
       "      <td>44.97</td>\n",
       "    </tr>\n",
       "  </tbody>\n",
       "</table>\n",
       "</div>"
      ],
      "text/plain": [
       "            Close\n",
       "Date             \n",
       "1993-02-01  44.25\n",
       "1993-02-02  44.34\n",
       "1993-02-03  44.81\n",
       "1993-02-04  45.00\n",
       "1993-02-05  44.97"
      ]
     },
     "execution_count": 5,
     "metadata": {},
     "output_type": "execute_result"
    }
   ],
   "source": [
    "price_df = df[['Close']].copy()\n",
    "price_df.head()"
   ]
  },
  {
   "cell_type": "code",
   "execution_count": null,
   "metadata": {},
   "outputs": [],
   "source": []
  },
  {
   "cell_type": "code",
   "execution_count": null,
   "metadata": {},
   "outputs": [],
   "source": []
  },
  {
   "cell_type": "code",
   "execution_count": null,
   "metadata": {},
   "outputs": [],
   "source": []
  },
  {
   "cell_type": "markdown",
   "metadata": {},
   "source": [
    "#### 4.2.4 볼린저 밴드 만들기"
   ]
  },
  {
   "cell_type": "code",
   "execution_count": 58,
   "metadata": {},
   "outputs": [
    {
     "data": {
      "text/html": [
       "<div>\n",
       "<style scoped>\n",
       "    .dataframe tbody tr th:only-of-type {\n",
       "        vertical-align: middle;\n",
       "    }\n",
       "\n",
       "    .dataframe tbody tr th {\n",
       "        vertical-align: top;\n",
       "    }\n",
       "\n",
       "    .dataframe thead th {\n",
       "        text-align: right;\n",
       "    }\n",
       "</style>\n",
       "<table border=\"1\" class=\"dataframe\">\n",
       "  <thead>\n",
       "    <tr style=\"text-align: right;\">\n",
       "      <th></th>\n",
       "      <th>Close</th>\n",
       "      <th>center</th>\n",
       "    </tr>\n",
       "    <tr>\n",
       "      <th>Date</th>\n",
       "      <th></th>\n",
       "      <th></th>\n",
       "    </tr>\n",
       "  </thead>\n",
       "  <tbody>\n",
       "    <tr>\n",
       "      <th>1997-06-11</th>\n",
       "      <td>1.54</td>\n",
       "      <td>NaN</td>\n",
       "    </tr>\n",
       "    <tr>\n",
       "      <th>1997-06-12</th>\n",
       "      <td>1.60</td>\n",
       "      <td>1.5755</td>\n",
       "    </tr>\n",
       "    <tr>\n",
       "      <th>1997-06-13</th>\n",
       "      <td>1.58</td>\n",
       "      <td>1.5565</td>\n",
       "    </tr>\n",
       "    <tr>\n",
       "      <th>1997-06-16</th>\n",
       "      <td>1.57</td>\n",
       "      <td>1.5485</td>\n",
       "    </tr>\n",
       "    <tr>\n",
       "      <th>1997-06-17</th>\n",
       "      <td>1.51</td>\n",
       "      <td>1.5385</td>\n",
       "    </tr>\n",
       "    <tr>\n",
       "      <th>1997-06-18</th>\n",
       "      <td>1.51</td>\n",
       "      <td>1.5320</td>\n",
       "    </tr>\n",
       "    <tr>\n",
       "      <th>1997-06-19</th>\n",
       "      <td>1.51</td>\n",
       "      <td>1.5360</td>\n",
       "    </tr>\n",
       "  </tbody>\n",
       "</table>\n",
       "</div>"
      ],
      "text/plain": [
       "            Close  center\n",
       "Date                     \n",
       "1997-06-11   1.54     NaN\n",
       "1997-06-12   1.60  1.5755\n",
       "1997-06-13   1.58  1.5565\n",
       "1997-06-16   1.57  1.5485\n",
       "1997-06-17   1.51  1.5385\n",
       "1997-06-18   1.51  1.5320\n",
       "1997-06-19   1.51  1.5360"
      ]
     },
     "execution_count": 58,
     "metadata": {},
     "output_type": "execute_result"
    }
   ],
   "source": [
    "# 중간밴드(이동평균선)\n",
    "price_df['center'] = price_df['Close'].rolling(window = 20).mean()\n",
    "price_df.iloc[18:25]"
   ]
  },
  {
   "cell_type": "code",
   "execution_count": 59,
   "metadata": {},
   "outputs": [
    {
     "data": {
      "text/html": [
       "<div>\n",
       "<style scoped>\n",
       "    .dataframe tbody tr th:only-of-type {\n",
       "        vertical-align: middle;\n",
       "    }\n",
       "\n",
       "    .dataframe tbody tr th {\n",
       "        vertical-align: top;\n",
       "    }\n",
       "\n",
       "    .dataframe thead th {\n",
       "        text-align: right;\n",
       "    }\n",
       "</style>\n",
       "<table border=\"1\" class=\"dataframe\">\n",
       "  <thead>\n",
       "    <tr style=\"text-align: right;\">\n",
       "      <th></th>\n",
       "      <th>Close</th>\n",
       "      <th>center</th>\n",
       "      <th>ub</th>\n",
       "    </tr>\n",
       "    <tr>\n",
       "      <th>Date</th>\n",
       "      <th></th>\n",
       "      <th></th>\n",
       "      <th></th>\n",
       "    </tr>\n",
       "  </thead>\n",
       "  <tbody>\n",
       "    <tr>\n",
       "      <th>1997-06-11</th>\n",
       "      <td>1.54</td>\n",
       "      <td>NaN</td>\n",
       "      <td>NaN</td>\n",
       "    </tr>\n",
       "    <tr>\n",
       "      <th>1997-06-12</th>\n",
       "      <td>1.60</td>\n",
       "      <td>1.5755</td>\n",
       "      <td>1.836951</td>\n",
       "    </tr>\n",
       "    <tr>\n",
       "      <th>1997-06-13</th>\n",
       "      <td>1.58</td>\n",
       "      <td>1.5565</td>\n",
       "      <td>1.745489</td>\n",
       "    </tr>\n",
       "    <tr>\n",
       "      <th>1997-06-16</th>\n",
       "      <td>1.57</td>\n",
       "      <td>1.5485</td>\n",
       "      <td>1.719229</td>\n",
       "    </tr>\n",
       "    <tr>\n",
       "      <th>1997-06-17</th>\n",
       "      <td>1.51</td>\n",
       "      <td>1.5385</td>\n",
       "      <td>1.691955</td>\n",
       "    </tr>\n",
       "    <tr>\n",
       "      <th>1997-06-18</th>\n",
       "      <td>1.51</td>\n",
       "      <td>1.5320</td>\n",
       "      <td>1.678194</td>\n",
       "    </tr>\n",
       "    <tr>\n",
       "      <th>1997-06-19</th>\n",
       "      <td>1.51</td>\n",
       "      <td>1.5360</td>\n",
       "      <td>1.674625</td>\n",
       "    </tr>\n",
       "  </tbody>\n",
       "</table>\n",
       "</div>"
      ],
      "text/plain": [
       "            Close  center        ub\n",
       "Date                               \n",
       "1997-06-11   1.54     NaN       NaN\n",
       "1997-06-12   1.60  1.5755  1.836951\n",
       "1997-06-13   1.58  1.5565  1.745489\n",
       "1997-06-16   1.57  1.5485  1.719229\n",
       "1997-06-17   1.51  1.5385  1.691955\n",
       "1997-06-18   1.51  1.5320  1.678194\n",
       "1997-06-19   1.51  1.5360  1.674625"
      ]
     },
     "execution_count": 59,
     "metadata": {},
     "output_type": "execute_result"
    }
   ],
   "source": [
    "price_df['ub'] = price_df['center'] + 2 * price_df['Close'].rolling(window = 20).std()\n",
    "price_df.iloc[18:25]"
   ]
  },
  {
   "cell_type": "code",
   "execution_count": 60,
   "metadata": {},
   "outputs": [
    {
     "data": {
      "text/html": [
       "<div>\n",
       "<style scoped>\n",
       "    .dataframe tbody tr th:only-of-type {\n",
       "        vertical-align: middle;\n",
       "    }\n",
       "\n",
       "    .dataframe tbody tr th {\n",
       "        vertical-align: top;\n",
       "    }\n",
       "\n",
       "    .dataframe thead th {\n",
       "        text-align: right;\n",
       "    }\n",
       "</style>\n",
       "<table border=\"1\" class=\"dataframe\">\n",
       "  <thead>\n",
       "    <tr style=\"text-align: right;\">\n",
       "      <th></th>\n",
       "      <th>Close</th>\n",
       "      <th>center</th>\n",
       "      <th>ub</th>\n",
       "      <th>lb</th>\n",
       "    </tr>\n",
       "    <tr>\n",
       "      <th>Date</th>\n",
       "      <th></th>\n",
       "      <th></th>\n",
       "      <th></th>\n",
       "      <th></th>\n",
       "    </tr>\n",
       "  </thead>\n",
       "  <tbody>\n",
       "    <tr>\n",
       "      <th>1997-06-11</th>\n",
       "      <td>1.54</td>\n",
       "      <td>NaN</td>\n",
       "      <td>NaN</td>\n",
       "      <td>NaN</td>\n",
       "    </tr>\n",
       "    <tr>\n",
       "      <th>1997-06-12</th>\n",
       "      <td>1.60</td>\n",
       "      <td>1.5755</td>\n",
       "      <td>1.836951</td>\n",
       "      <td>1.314049</td>\n",
       "    </tr>\n",
       "    <tr>\n",
       "      <th>1997-06-13</th>\n",
       "      <td>1.58</td>\n",
       "      <td>1.5565</td>\n",
       "      <td>1.745489</td>\n",
       "      <td>1.367511</td>\n",
       "    </tr>\n",
       "    <tr>\n",
       "      <th>1997-06-16</th>\n",
       "      <td>1.57</td>\n",
       "      <td>1.5485</td>\n",
       "      <td>1.719229</td>\n",
       "      <td>1.377771</td>\n",
       "    </tr>\n",
       "    <tr>\n",
       "      <th>1997-06-17</th>\n",
       "      <td>1.51</td>\n",
       "      <td>1.5385</td>\n",
       "      <td>1.691955</td>\n",
       "      <td>1.385045</td>\n",
       "    </tr>\n",
       "    <tr>\n",
       "      <th>1997-06-18</th>\n",
       "      <td>1.51</td>\n",
       "      <td>1.5320</td>\n",
       "      <td>1.678194</td>\n",
       "      <td>1.385806</td>\n",
       "    </tr>\n",
       "    <tr>\n",
       "      <th>1997-06-19</th>\n",
       "      <td>1.51</td>\n",
       "      <td>1.5360</td>\n",
       "      <td>1.674625</td>\n",
       "      <td>1.397375</td>\n",
       "    </tr>\n",
       "  </tbody>\n",
       "</table>\n",
       "</div>"
      ],
      "text/plain": [
       "            Close  center        ub        lb\n",
       "Date                                         \n",
       "1997-06-11   1.54     NaN       NaN       NaN\n",
       "1997-06-12   1.60  1.5755  1.836951  1.314049\n",
       "1997-06-13   1.58  1.5565  1.745489  1.367511\n",
       "1997-06-16   1.57  1.5485  1.719229  1.377771\n",
       "1997-06-17   1.51  1.5385  1.691955  1.385045\n",
       "1997-06-18   1.51  1.5320  1.678194  1.385806\n",
       "1997-06-19   1.51  1.5360  1.674625  1.397375"
      ]
     },
     "execution_count": 60,
     "metadata": {},
     "output_type": "execute_result"
    }
   ],
   "source": [
    "price_df['lb'] = price_df['center'] - 2 * price_df['Close'].rolling(window = 20).std()\n",
    "price_df.iloc[18:25]"
   ]
  },
  {
   "cell_type": "code",
   "execution_count": 61,
   "metadata": {},
   "outputs": [],
   "source": [
    "# 볼린져밴드 함수\n",
    "n = 20\n",
    "sigma = 2\n",
    "\n",
    "def bollinger_band(price_df, n, sigma):\n",
    "    bb = price_df.copy()\n",
    "    bb['center'] = price_df['Close'].rolling(n).mean()                    # 중앙 이동평균선\n",
    "    bb['ub'] = bb['center'] + sigma * price_df['Close'].rolling(n).std()  # 상단밴드\n",
    "    bb['lb'] = bb['center'] - sigma * price_df['Close'].rolling(n).std()  # 상단밴드\n",
    "    return bb\n",
    "\n",
    "bollinger = bollinger_band(price_df, n, sigma)"
   ]
  },
  {
   "cell_type": "code",
   "execution_count": 62,
   "metadata": {},
   "outputs": [
    {
     "data": {
      "text/html": [
       "<div>\n",
       "<style scoped>\n",
       "    .dataframe tbody tr th:only-of-type {\n",
       "        vertical-align: middle;\n",
       "    }\n",
       "\n",
       "    .dataframe tbody tr th {\n",
       "        vertical-align: top;\n",
       "    }\n",
       "\n",
       "    .dataframe thead th {\n",
       "        text-align: right;\n",
       "    }\n",
       "</style>\n",
       "<table border=\"1\" class=\"dataframe\">\n",
       "  <thead>\n",
       "    <tr style=\"text-align: right;\">\n",
       "      <th></th>\n",
       "      <th>Close</th>\n",
       "      <th>center</th>\n",
       "      <th>ub</th>\n",
       "      <th>lb</th>\n",
       "    </tr>\n",
       "    <tr>\n",
       "      <th>Date</th>\n",
       "      <th></th>\n",
       "      <th></th>\n",
       "      <th></th>\n",
       "      <th></th>\n",
       "    </tr>\n",
       "  </thead>\n",
       "  <tbody>\n",
       "    <tr>\n",
       "      <th>2009-01-02</th>\n",
       "      <td>54.36</td>\n",
       "      <td>50.7840</td>\n",
       "      <td>54.317714</td>\n",
       "      <td>47.250286</td>\n",
       "    </tr>\n",
       "    <tr>\n",
       "      <th>2009-01-05</th>\n",
       "      <td>54.06</td>\n",
       "      <td>51.1210</td>\n",
       "      <td>54.547687</td>\n",
       "      <td>47.694313</td>\n",
       "    </tr>\n",
       "    <tr>\n",
       "      <th>2009-01-06</th>\n",
       "      <td>57.36</td>\n",
       "      <td>51.5760</td>\n",
       "      <td>55.740377</td>\n",
       "      <td>47.411623</td>\n",
       "    </tr>\n",
       "    <tr>\n",
       "      <th>2009-01-07</th>\n",
       "      <td>56.20</td>\n",
       "      <td>51.8155</td>\n",
       "      <td>56.462656</td>\n",
       "      <td>47.168344</td>\n",
       "    </tr>\n",
       "    <tr>\n",
       "      <th>2009-01-08</th>\n",
       "      <td>57.16</td>\n",
       "      <td>52.1110</td>\n",
       "      <td>57.323915</td>\n",
       "      <td>46.898085</td>\n",
       "    </tr>\n",
       "  </tbody>\n",
       "</table>\n",
       "</div>"
      ],
      "text/plain": [
       "            Close   center         ub         lb\n",
       "Date                                            \n",
       "2009-01-02  54.36  50.7840  54.317714  47.250286\n",
       "2009-01-05  54.06  51.1210  54.547687  47.694313\n",
       "2009-01-06  57.36  51.5760  55.740377  47.411623\n",
       "2009-01-07  56.20  51.8155  56.462656  47.168344\n",
       "2009-01-08  57.16  52.1110  57.323915  46.898085"
      ]
     },
     "execution_count": 62,
     "metadata": {},
     "output_type": "execute_result"
    }
   ],
   "source": [
    "base_date = '2009-01-02'\n",
    "sample = bollinger.loc[base_date:]    # 이방법으로 이동평균 생성시 발생하는 결측치 삭제도 가능\n",
    "sample.head()"
   ]
  },
  {
   "cell_type": "code",
   "execution_count": 77,
   "metadata": {},
   "outputs": [
    {
     "data": {
      "text/html": [
       "<div>\n",
       "<style scoped>\n",
       "    .dataframe tbody tr th:only-of-type {\n",
       "        vertical-align: middle;\n",
       "    }\n",
       "\n",
       "    .dataframe tbody tr th {\n",
       "        vertical-align: top;\n",
       "    }\n",
       "\n",
       "    .dataframe thead th {\n",
       "        text-align: right;\n",
       "    }\n",
       "</style>\n",
       "<table border=\"1\" class=\"dataframe\">\n",
       "  <thead>\n",
       "    <tr style=\"text-align: right;\">\n",
       "      <th></th>\n",
       "      <th>Close</th>\n",
       "      <th>trade</th>\n",
       "    </tr>\n",
       "    <tr>\n",
       "      <th>Date</th>\n",
       "      <th></th>\n",
       "      <th></th>\n",
       "    </tr>\n",
       "  </thead>\n",
       "  <tbody>\n",
       "    <tr>\n",
       "      <th>2009-01-02</th>\n",
       "      <td>54.36</td>\n",
       "      <td></td>\n",
       "    </tr>\n",
       "    <tr>\n",
       "      <th>2009-01-05</th>\n",
       "      <td>54.06</td>\n",
       "      <td></td>\n",
       "    </tr>\n",
       "    <tr>\n",
       "      <th>2009-01-06</th>\n",
       "      <td>57.36</td>\n",
       "      <td></td>\n",
       "    </tr>\n",
       "    <tr>\n",
       "      <th>2009-01-07</th>\n",
       "      <td>56.20</td>\n",
       "      <td></td>\n",
       "    </tr>\n",
       "    <tr>\n",
       "      <th>2009-01-08</th>\n",
       "      <td>57.16</td>\n",
       "      <td></td>\n",
       "    </tr>\n",
       "  </tbody>\n",
       "</table>\n",
       "</div>"
      ],
      "text/plain": [
       "            Close trade\n",
       "Date                   \n",
       "2009-01-02  54.36      \n",
       "2009-01-05  54.06      \n",
       "2009-01-06  57.36      \n",
       "2009-01-07  56.20      \n",
       "2009-01-08  57.16      "
      ]
     },
     "execution_count": 77,
     "metadata": {},
     "output_type": "execute_result"
    }
   ],
   "source": [
    "# 함수화\n",
    "def create_trade_book(sample):\n",
    "    book = sample[['Close']].copy()\n",
    "    book['trade'] = ''\n",
    "    retrun(book)\n",
    "\n",
    "# 거래내역 기록할 장부 작성\n",
    "book = sample[['Close']].copy()\n",
    "book['trade'] = ''   # 거래내역 컬럼\n",
    "book.head()"
   ]
  },
  {
   "cell_type": "markdown",
   "metadata": {},
   "source": [
    "#### 4.2.5 거래 전략"
   ]
  },
  {
   "cell_type": "code",
   "execution_count": 78,
   "metadata": {},
   "outputs": [],
   "source": [
    "def tradings(sample, book):\n",
    "    for i in sample.index:\n",
    "        if sample.loc[i, 'Close'] > sample.loc[i, 'ub']:   # 상단 밴드 이탈 시 동작 안함\n",
    "            book.loc[i, 'trade'] = ''\n",
    "        elif sample.loc[i, 'lb'] > sample.loc[i, 'Close']:  # 하단 밴드 이탈 시 매수\n",
    "            if book.shift(1).loc[i, 'trade'] == 'buy':      # 이미 매수 상태이면\n",
    "                book.loc[i, 'trade'] = 'buy'                # 매수상태 유지\n",
    "            else:\n",
    "                book.loc[i, 'trade'] = 'buy'\n",
    "        elif sample.loc[i, 'ub'] >= sample.loc[i, 'Close'] and sample.loc[i, 'Close'] >= sample.loc[i, 'lb']:   # 볼린져 밴드 안에 있을 시\n",
    "            if book.shift(1).loc[i, 'trade'] == 'buy':\n",
    "                book.loc[i, 'trade'] = 'buy'                #매수상태 유지\n",
    "            else:\n",
    "                book.loc[i, 'trade'] = ''\n",
    "    return(book)"
   ]
  },
  {
   "cell_type": "code",
   "execution_count": 79,
   "metadata": {},
   "outputs": [
    {
     "data": {
      "text/html": [
       "<div>\n",
       "<style scoped>\n",
       "    .dataframe tbody tr th:only-of-type {\n",
       "        vertical-align: middle;\n",
       "    }\n",
       "\n",
       "    .dataframe tbody tr th {\n",
       "        vertical-align: top;\n",
       "    }\n",
       "\n",
       "    .dataframe thead th {\n",
       "        text-align: right;\n",
       "    }\n",
       "</style>\n",
       "<table border=\"1\" class=\"dataframe\">\n",
       "  <thead>\n",
       "    <tr style=\"text-align: right;\">\n",
       "      <th></th>\n",
       "      <th>Close</th>\n",
       "      <th>trade</th>\n",
       "    </tr>\n",
       "    <tr>\n",
       "      <th>Date</th>\n",
       "      <th></th>\n",
       "      <th></th>\n",
       "    </tr>\n",
       "  </thead>\n",
       "  <tbody>\n",
       "    <tr>\n",
       "      <th>2020-09-15</th>\n",
       "      <td>3156.13</td>\n",
       "      <td></td>\n",
       "    </tr>\n",
       "    <tr>\n",
       "      <th>2020-09-16</th>\n",
       "      <td>3078.10</td>\n",
       "      <td></td>\n",
       "    </tr>\n",
       "    <tr>\n",
       "      <th>2020-09-17</th>\n",
       "      <td>3008.73</td>\n",
       "      <td></td>\n",
       "    </tr>\n",
       "    <tr>\n",
       "      <th>2020-09-18</th>\n",
       "      <td>2954.91</td>\n",
       "      <td></td>\n",
       "    </tr>\n",
       "    <tr>\n",
       "      <th>2020-09-21</th>\n",
       "      <td>2960.47</td>\n",
       "      <td></td>\n",
       "    </tr>\n",
       "    <tr>\n",
       "      <th>2020-09-22</th>\n",
       "      <td>3128.99</td>\n",
       "      <td></td>\n",
       "    </tr>\n",
       "    <tr>\n",
       "      <th>2020-09-23</th>\n",
       "      <td>2999.86</td>\n",
       "      <td></td>\n",
       "    </tr>\n",
       "    <tr>\n",
       "      <th>2020-09-24</th>\n",
       "      <td>3019.79</td>\n",
       "      <td></td>\n",
       "    </tr>\n",
       "    <tr>\n",
       "      <th>2020-09-25</th>\n",
       "      <td>3095.13</td>\n",
       "      <td></td>\n",
       "    </tr>\n",
       "    <tr>\n",
       "      <th>2020-09-28</th>\n",
       "      <td>3174.05</td>\n",
       "      <td></td>\n",
       "    </tr>\n",
       "  </tbody>\n",
       "</table>\n",
       "</div>"
      ],
      "text/plain": [
       "              Close trade\n",
       "Date                     \n",
       "2020-09-15  3156.13      \n",
       "2020-09-16  3078.10      \n",
       "2020-09-17  3008.73      \n",
       "2020-09-18  2954.91      \n",
       "2020-09-21  2960.47      \n",
       "2020-09-22  3128.99      \n",
       "2020-09-23  2999.86      \n",
       "2020-09-24  3019.79      \n",
       "2020-09-25  3095.13      \n",
       "2020-09-28  3174.05      "
      ]
     },
     "execution_count": 79,
     "metadata": {},
     "output_type": "execute_result"
    }
   ],
   "source": [
    "book = tradings(sample, book)\n",
    "book.tail(10)"
   ]
  },
  {
   "cell_type": "markdown",
   "metadata": {},
   "source": [
    "#### 4.2.6 전략 수익률"
   ]
  },
  {
   "cell_type": "code",
   "execution_count": 100,
   "metadata": {},
   "outputs": [],
   "source": [
    "def returns(book):\n",
    "    # 손익 계산\n",
    "    rtn = 1.0\n",
    "    book['return'] = 1\n",
    "    buy = 0.0\n",
    "    sell = 0.0\n",
    "    for i in book.index:\n",
    "        # long 진입\n",
    "        if book.loc[i, 'trade'] == 'buy' and book.shift(1).loc[i, 'trade'] == '':\n",
    "            buy = book.loc[i, 'Close']\n",
    "            print('진입일 : ', i, 'long 진입가격 : ', buy)\n",
    "        # long 청산\n",
    "        elif book.loc[i, 'trade'] == '' and book.shift(1).loc[i, 'trade'] =='buy':\n",
    "            sell = book.loc[i, 'Close']\n",
    "            rtn = (sell - buy) / buy + 1  # 손익 계산\n",
    "            book.loc[i, 'return'] = rtn\n",
    "            print('청산일 : ', i, 'long 진입가격 : ', buy, ' | long 청산가격 : ', sell, ' | return: ', round(rtn, 4))\n",
    "            \n",
    "        if book.loc[i, 'trade'] == '':  # 제로 포지션\n",
    "            buy = 0.0\n",
    "            sell = 0.0\n",
    "            \n",
    "    acc_rtn = 1.0\n",
    "    for i in book.index:\n",
    "        rtn = book.loc[i, 'return']\n",
    "        acc_rtn = acc_rtn * rtn   # 누적 수익률 계산\n",
    "        book.loc[i, 'acc_return'] = acc_rtn\n",
    "        \n",
    "    print('Accunulated return : ', round(acc_rtn, 4))\n",
    "#     return (round(acc_rtn, 4))\n",
    "    return(book)"
   ]
  },
  {
   "cell_type": "code",
   "execution_count": 101,
   "metadata": {
    "scrolled": false
   },
   "outputs": [
    {
     "name": "stdout",
     "output_type": "stream",
     "text": [
      "진입일 :  2009-05-13 00:00:00 long 진입가격 :  74.19\n",
      "청산일 :  2009-06-01 00:00:00 long 진입가격 :  74.19  | long 청산가격 :  83.05  | return:  1.1194\n",
      "진입일 :  2009-07-07 00:00:00 long 진입가격 :  75.63\n",
      "청산일 :  2009-07-20 00:00:00 long 진입가격 :  75.63  | long 청산가격 :  88.23  | return:  1.1666\n",
      "진입일 :  2009-08-31 00:00:00 long 진입가격 :  81.19\n",
      "청산일 :  2009-09-16 00:00:00 long 진입가격 :  81.19  | long 청산가격 :  90.7  | return:  1.1171\n",
      "진입일 :  2010-05-04 00:00:00 long 진입가격 :  129.83\n",
      "청산일 :  2010-08-04 00:00:00 long 진입가격 :  129.83  | long 청산가격 :  127.58  | return:  0.9827\n",
      "진입일 :  2010-11-16 00:00:00 long 진입가격 :  157.78\n",
      "청산일 :  2010-11-24 00:00:00 long 진입가격 :  157.78  | long 청산가격 :  177.25  | return:  1.1234\n",
      "진입일 :  2011-01-21 00:00:00 long 진입가격 :  177.42\n",
      "청산일 :  2011-03-30 00:00:00 long 진입가격 :  177.42  | long 청산가격 :  179.42  | return:  1.0113\n",
      "진입일 :  2011-06-06 00:00:00 long 진입가격 :  185.69\n",
      "청산일 :  2011-06-27 00:00:00 long 진입가격 :  185.69  | long 청산가격 :  201.25  | return:  1.0838\n",
      "진입일 :  2011-08-04 00:00:00 long 진입가격 :  201.48\n",
      "청산일 :  2011-10-14 00:00:00 long 진입가격 :  201.48  | long 청산가격 :  246.71  | return:  1.2245\n",
      "진입일 :  2011-10-26 00:00:00 long 진입가격 :  198.4\n",
      "청산일 :  2012-01-18 00:00:00 long 진입가격 :  198.4  | long 청산가격 :  189.44  | return:  0.9548\n",
      "진입일 :  2012-10-10 00:00:00 long 진입가격 :  244.99\n",
      "청산일 :  2012-11-29 00:00:00 long 진입가격 :  244.99  | long 청산가격 :  251.27  | return:  1.0256\n",
      "진입일 :  2013-04-29 00:00:00 long 진입가격 :  249.74\n",
      "청산일 :  2013-06-07 00:00:00 long 진입가격 :  249.74  | long 청산가격 :  276.87  | return:  1.1086\n",
      "진입일 :  2013-08-14 00:00:00 long 진입가격 :  291.34\n",
      "청산일 :  2013-09-18 00:00:00 long 진입가격 :  291.34  | long 청산가격 :  312.03  | return:  1.071\n",
      "진입일 :  2014-01-24 00:00:00 long 진입가격 :  387.6\n",
      "청산일 :  2014-03-05 00:00:00 long 진입가격 :  387.6  | long 청산가격 :  372.37  | return:  0.9607\n",
      "진입일 :  2014-03-24 00:00:00 long 진입가격 :  351.85\n",
      "청산일 :  2014-06-05 00:00:00 long 진입가격 :  351.85  | long 청산가격 :  323.57  | return:  0.9196\n",
      "진입일 :  2014-09-15 00:00:00 long 진입가격 :  323.89\n",
      "청산일 :  2014-11-14 00:00:00 long 진입가격 :  323.89  | long 청산가격 :  327.82  | return:  1.0121\n",
      "진입일 :  2015-01-15 00:00:00 long 진입가격 :  286.95\n",
      "청산일 :  2015-01-30 00:00:00 long 진입가격 :  286.95  | long 청산가격 :  354.53  | return:  1.2355\n",
      "진입일 :  2015-03-10 00:00:00 long 진입가격 :  369.51\n",
      "청산일 :  2015-04-08 00:00:00 long 진입가격 :  369.51  | long 청산가격 :  381.2  | return:  1.0316\n",
      "진입일 :  2015-08-20 00:00:00 long 진입가격 :  515.78\n",
      "청산일 :  2015-10-23 00:00:00 long 진입가격 :  515.78  | long 청산가격 :  599.03  | return:  1.1614\n",
      "진입일 :  2015-12-11 00:00:00 long 진입가격 :  640.15\n",
      "청산일 :  2015-12-29 00:00:00 long 진입가격 :  640.15  | long 청산가격 :  693.97  | return:  1.0841\n",
      "진입일 :  2016-01-04 00:00:00 long 진입가격 :  636.99\n",
      "청산일 :  2016-03-29 00:00:00 long 진입가격 :  636.99  | long 청산가격 :  593.86  | return:  0.9323\n",
      "진입일 :  2016-06-24 00:00:00 long 진입가격 :  698.96\n",
      "청산일 :  2016-07-06 00:00:00 long 진입가격 :  698.96  | long 청산가격 :  737.61  | return:  1.0553\n",
      "진입일 :  2016-10-28 00:00:00 long 진입가격 :  776.32\n",
      "청산일 :  2017-01-06 00:00:00 long 진입가격 :  776.32  | long 청산가격 :  795.99  | return:  1.0253\n",
      "진입일 :  2017-08-10 00:00:00 long 진입가격 :  956.92\n",
      "청산일 :  2017-09-13 00:00:00 long 진입가격 :  956.92  | long 청산가격 :  999.6  | return:  1.0446\n",
      "진입일 :  2017-09-25 00:00:00 long 진입가격 :  939.79\n",
      "청산일 :  2017-10-27 00:00:00 long 진입가격 :  939.79  | long 청산가격 :  1100.95  | return:  1.1715\n",
      "진입일 :  2018-03-28 00:00:00 long 진입가격 :  1431.42\n",
      "청산일 :  2018-06-01 00:00:00 long 진입가격 :  1431.42  | long 청산가격 :  1641.54  | return:  1.1468\n",
      "진입일 :  2018-10-08 00:00:00 long 진입가격 :  1864.42\n",
      "청산일 :  2019-03-01 00:00:00 long 진입가격 :  1864.42  | long 청산가격 :  1671.73  | return:  0.8966\n",
      "진입일 :  2019-05-13 00:00:00 long 진입가격 :  1822.68\n",
      "청산일 :  2019-07-09 00:00:00 long 진입가격 :  1822.68  | long 청산가격 :  1988.3  | return:  1.0909\n",
      "진입일 :  2019-07-30 00:00:00 long 진입가격 :  1898.53\n",
      "청산일 :  2019-12-26 00:00:00 long 진입가격 :  1898.53  | long 청산가격 :  1868.77  | return:  0.9843\n",
      "진입일 :  2020-01-27 00:00:00 long 진입가격 :  1828.34\n",
      "청산일 :  2020-01-31 00:00:00 long 진입가격 :  1828.34  | long 청산가격 :  2008.72  | return:  1.0987\n",
      "진입일 :  2020-03-12 00:00:00 long 진입가격 :  1676.61\n",
      "청산일 :  2020-04-13 00:00:00 long 진입가격 :  1676.61  | long 청산가격 :  2168.87  | return:  1.2936\n",
      "Accunulated return :  6.9864\n"
     ]
    }
   ],
   "source": [
    "imsi = returns(book)"
   ]
  },
  {
   "cell_type": "markdown",
   "metadata": {},
   "source": [
    "#### 4.2.7 변화 추이"
   ]
  },
  {
   "cell_type": "code",
   "execution_count": 104,
   "metadata": {},
   "outputs": [
    {
     "data": {
      "text/plain": [
       "<matplotlib.axes._subplots.AxesSubplot at 0x7f0599919690>"
      ]
     },
     "execution_count": 104,
     "metadata": {},
     "output_type": "execute_result"
    },
    {
     "data": {
      "image/png": "[encoded data removed]",
      "text/plain": [
       "<Figure size 432x288 with 1 Axes>"
      ]
     },
     "metadata": {
      "needs_background": "light"
     },
     "output_type": "display_data"
    }
   ],
   "source": [
    "import matplotlib.pylab as plt\n",
    "book['acc_return'].plot()"
   ]
  },
  {
   "cell_type": "code",
   "execution_count": null,
   "metadata": {},
   "outputs": [],
   "source": []
  }
 ],
 "metadata": {
  "kernelspec": {
   "display_name": "Python 3",
   "language": "python",
   "name": "python3"
  },
  "language_info": {
   "codemirror_mode": {
    "name": "ipython",
    "version": 3
   },
   "file_extension": ".py",
   "mimetype": "text/x-python",
   "name": "python",
   "nbconvert_exporter": "python",
   "pygments_lexer": "ipython3",
   "version": "3.7.6"
  }
 },
 "nbformat": 4,
 "nbformat_minor": 4
}
